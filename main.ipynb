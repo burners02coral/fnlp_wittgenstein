{
 "cells": [
  {
   "cell_type": "markdown",
   "source": [
    "# Imports"
   ],
   "metadata": {
    "collapsed": false
   },
   "id": "46d4ce8d1c3e51a5"
  },
  {
   "cell_type": "code",
   "execution_count": 5,
   "id": "initial_id",
   "metadata": {
    "collapsed": true,
    "ExecuteTime": {
     "end_time": "2024-01-30T18:50:28.515726Z",
     "start_time": "2024-01-30T18:50:28.434057Z"
    }
   },
   "outputs": [],
   "source": [
    "#!pip install PyPDF2\n",
    "import re\n",
    "from pathlib import Path\n",
    "import PyPDF2 as pdf2"
   ]
  },
  {
   "cell_type": "markdown",
   "source": [
    "# Configs\n"
   ],
   "metadata": {
    "collapsed": false
   },
   "id": "a0f7fcbe03deb102"
  },
  {
   "cell_type": "code",
   "outputs": [],
   "source": [
    "ignore_pages = {\n",
    "    \"14 REMARKS ON COLOUR\": [0, 35],\n",
    "    \"13 ON CERTAINTY\": [0, 1, 51],\n",
    "    \"12 LAST WRITINGS ON THE PHILOSOPHY OF PSYCHOLOGY 2\": [0, 1, 2, 3, 44, 45],\n",
    "    \"11 LAST WRITINGS ON THE PHILOSOPHY OF PSYCHOLOGY\": [0, 1, 73, 74, 75, 76],\n",
    "    \"10 REMARKS ON THE PHILOSOPHY OF PSYCHOLOGY 2\": [0, 1, 68, 69, 70, 71, 72, 73, 74, 75],\n",
    "    \"09 REMARKS ON THE PHILOSOPHY OF PSYCHOLOGY 1\": [0, 1, 2, 110, 111],\n",
    "    \"08 PHILOSOPHICAL INVESTIGATIONS\": [0, 1, 2, 3, 4],\n",
    "    \"07 ZETTEL\": [0, 1, 2],\n",
    "    \"06 Culture and Value\": [0, 1, 2, 3, 4, 5, 96, 97, 98, 99, 100, 101, 102, 103, 104, 105, 106, 107],\n",
    "    \"05 REMARKS ON THE FOUNDATIONS OF MATHEMATICS\": [0, 1, 2, 3, 4, 5, 172, 173, 174],\n",
    "    \"04 THE BLUE AND THE BROWN BOOKS\": [0, 1, 2, 3, 4, 5, 6, 7, 106],\n",
    "    \"03 PHILOSOPHICAL GRAMMAR\": [0, 1, 2, 3, 4, 5, 6, 7, 8, 9, 10, 11, 12, 13, 14, 15, 16, 17, 227, 228, 229, 230, 231, 232, 233],\n",
    "    \"02 PHILOSOPHICAL REMARKS\": [0, 1, 2, 3, 4, 5, 6, 7, 8, 9, 10, 11, 12, 13, 14, 15, 16, 17, 163, 164, 165, 166, 167, 168, 168, 170, 171],\n",
    "    \"01 Notebooks\": [0, 1, 93, 94, 95, 96, 97, 98, 99],\n",
    "    \"(Routledge Classics) Ludwig Wittgenstein - Tractatus Logico-Philosophicus-Routledge (2001)\": [0, 1, 2, 3, 4, 5, 6, 7, 8, 9, 10, 11, 12, 13, 14, 15, 16, 17, 18, 19, 20, 21, 22, 23, 24, 25, 26, 27, 28, 29, 30, 117, 118, 119, 120, 121, 122, 123, 124, 125, 126, 127, 128, 129, 130, 131, 132, 133, 134],\n",
    "    \"Wittgenstein - Notebooks 1914-1916 ed 1961\"\n",
    "}"
   ],
   "metadata": {
    "collapsed": false,
    "ExecuteTime": {
     "end_time": "2024-01-30T18:48:36.167489Z",
     "start_time": "2024-01-30T18:48:36.164768Z"
    }
   },
   "id": "b6d1a2669140e19e",
   "execution_count": 3
  },
  {
   "cell_type": "markdown",
   "source": [
    "\n",
    "# Preprocessing\n",
    "## Extract PDFs to txt file"
   ],
   "metadata": {
    "collapsed": false
   },
   "id": "46590b8ec4a1ceb6"
  },
  {
   "cell_type": "code",
   "outputs": [
    {
     "ename": "KeyError",
     "evalue": "'Wittgenstein - Notebooks 1914-1916 ed 1961'",
     "output_type": "error",
     "traceback": [
      "\u001B[0;31m---------------------------------------------------------------------------\u001B[0m",
      "\u001B[0;31mKeyError\u001B[0m                                  Traceback (most recent call last)",
      "Cell \u001B[0;32mIn[9], line 33\u001B[0m\n\u001B[1;32m     31\u001B[0m \u001B[38;5;28;01mfor\u001B[39;00m pdf_file \u001B[38;5;129;01min\u001B[39;00m Path(\u001B[38;5;124m'\u001B[39m\u001B[38;5;124mdata/raw\u001B[39m\u001B[38;5;124m'\u001B[39m)\u001B[38;5;241m.\u001B[39mglob(\u001B[38;5;124m'\u001B[39m\u001B[38;5;124m*.pdf\u001B[39m\u001B[38;5;124m'\u001B[39m):\n\u001B[1;32m     32\u001B[0m     file_name \u001B[38;5;241m=\u001B[39m pdf_file\u001B[38;5;241m.\u001B[39mname\u001B[38;5;241m.\u001B[39msplit(\u001B[38;5;124m'\u001B[39m\u001B[38;5;124m.\u001B[39m\u001B[38;5;124m'\u001B[39m)[\u001B[38;5;241m0\u001B[39m] \n\u001B[0;32m---> 33\u001B[0m     text \u001B[38;5;241m=\u001B[39m \u001B[43mextract_pdf\u001B[49m\u001B[43m(\u001B[49m\u001B[43mpdf_file\u001B[49m\u001B[43m,\u001B[49m\u001B[43m \u001B[49m\u001B[43mfile_name\u001B[49m\u001B[43m)\u001B[49m\n\u001B[1;32m     34\u001B[0m     save_file(text, file_name \u001B[38;5;241m+\u001B[39m \u001B[38;5;124m'\u001B[39m\u001B[38;5;124m.txt\u001B[39m\u001B[38;5;124m'\u001B[39m)\n",
      "Cell \u001B[0;32mIn[9], line 22\u001B[0m, in \u001B[0;36mextract_pdf\u001B[0;34m(pdf_file_path, name)\u001B[0m\n\u001B[1;32m     19\u001B[0m full_text \u001B[38;5;241m=\u001B[39m \u001B[38;5;124m\"\u001B[39m\u001B[38;5;124m\"\u001B[39m\n\u001B[1;32m     20\u001B[0m \u001B[38;5;28;01mfor\u001B[39;00m index, page \u001B[38;5;129;01min\u001B[39;00m \u001B[38;5;28menumerate\u001B[39m(pdf\u001B[38;5;241m.\u001B[39mpages):\n\u001B[1;32m     21\u001B[0m     \u001B[38;5;66;03m# skip first page and ignored pages\u001B[39;00m\n\u001B[0;32m---> 22\u001B[0m     \u001B[38;5;28;01mif\u001B[39;00m index \u001B[38;5;129;01mnot\u001B[39;00m \u001B[38;5;129;01min\u001B[39;00m [\u001B[38;5;241m0\u001B[39m] \u001B[38;5;129;01mand\u001B[39;00m index \u001B[38;5;129;01mnot\u001B[39;00m \u001B[38;5;129;01min\u001B[39;00m \u001B[43mignore_pages\u001B[49m\u001B[43m[\u001B[49m\u001B[43mname\u001B[49m\u001B[43m]\u001B[49m:\n\u001B[1;32m     23\u001B[0m         full_text \u001B[38;5;241m+\u001B[39m\u001B[38;5;241m=\u001B[39m _clean_text(page\u001B[38;5;241m.\u001B[39mextract_text() \u001B[38;5;241m+\u001B[39m \u001B[38;5;124m'\u001B[39m\u001B[38;5;130;01m\\n\u001B[39;00m\u001B[38;5;124m'\u001B[39m)\n\u001B[1;32m     24\u001B[0m \u001B[38;5;28;01mreturn\u001B[39;00m full_text\n",
      "\u001B[0;31mKeyError\u001B[0m: 'Wittgenstein - Notebooks 1914-1916 ed 1961'"
     ]
    }
   ],
   "source": [
    "def _clean_text(text):\n",
    "    text = re.sub(r\"Page( Break)? \\d{1,3}\" , \" \", text)\n",
    "    text = re.sub(r\"Page( Break)? [ivm]{1,3}\" , \" \", text) \n",
    "    # remove capital letter words\n",
    "    text = re.sub(r\"/(\\w*[A-Z]+\\w*)\\w+/\", \"\", text)\n",
    "    text = re.sub(\"\\d{1,5}.\", \"\", text)\n",
    "    text = re.sub(r\"\\s+\" , \" \", text)\n",
    "    text = re.sub(r\"†\", \"\", text)\n",
    "    text = re.sub(r\"\\( Eds.\\)\", \"\", text)\n",
    "    # [Cf. Z ]\n",
    "    text = re.sub(r\"\\[a-zA-Z\\w*\\]\", \"\", text)\n",
    "    # text = re.sub(r\"\\s+\" , \" \", text)\n",
    "    \n",
    "    return text\n",
    "\n",
    "def extract_pdf(pdf_file_path, name):\n",
    "    with open (pdf_file_path, \"rb\") as f:\n",
    "        pdf = pdf2.PdfReader(f)\n",
    "        full_text = \"\"\n",
    "        for index, page in enumerate(pdf.pages):\n",
    "            # skip first page and ignored pages\n",
    "            if index not in [0] and index not in ignore_pages[name]:\n",
    "                full_text += _clean_text(page.extract_text() + '\\n')\n",
    "        return full_text\n",
    "    \n",
    "def save_file(data: str, file_name: str):\n",
    "    Path(\"data\").mkdir(parents=True, exist_ok=True)\n",
    "    file = Path(\"data\") / file_name\n",
    "    file.write_text(data)\n",
    "\n",
    "for pdf_file in Path('data/raw').glob('*.pdf'):\n",
    "    file_name = pdf_file.name.split('.')[0] \n",
    "    text = extract_pdf(pdf_file, file_name)\n",
    "    save_file(text, file_name + '.txt')\n",
    "        "
   ],
   "metadata": {
    "collapsed": false,
    "ExecuteTime": {
     "end_time": "2024-01-30T19:08:19.070033Z",
     "start_time": "2024-01-30T19:07:39.938939Z"
    }
   },
   "id": "821b3fdf56a1b9d9",
   "execution_count": 9
  },
  {
   "cell_type": "code",
   "outputs": [],
   "source": [],
   "metadata": {
    "collapsed": false
   },
   "id": "d2bc938025c2770b"
  },
  {
   "cell_type": "code",
   "outputs": [],
   "source": [],
   "metadata": {
    "collapsed": false
   },
   "id": "fea284fe56095146"
  }
 ],
 "metadata": {
  "kernelspec": {
   "display_name": "Python 3",
   "language": "python",
   "name": "python3"
  },
  "language_info": {
   "codemirror_mode": {
    "name": "ipython",
    "version": 2
   },
   "file_extension": ".py",
   "mimetype": "text/x-python",
   "name": "python",
   "nbconvert_exporter": "python",
   "pygments_lexer": "ipython2",
   "version": "2.7.6"
  }
 },
 "nbformat": 4,
 "nbformat_minor": 5
}
