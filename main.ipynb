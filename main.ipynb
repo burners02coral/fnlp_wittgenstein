{
 "cells": [
  {
   "cell_type": "markdown",
   "source": [
    "# Imports"
   ],
   "metadata": {
    "collapsed": false
   },
   "id": "46d4ce8d1c3e51a5"
  },
  {
   "cell_type": "code",
   "execution_count": 4,
   "id": "initial_id",
   "metadata": {
    "collapsed": true,
    "ExecuteTime": {
     "end_time": "2024-01-29T16:15:09.204218Z",
     "start_time": "2024-01-29T16:15:09.200635Z"
    }
   },
   "outputs": [],
   "source": [
    "#!pip install PyPDF2\n",
    "import re\n",
    "import os\n",
    "import pathlib\n",
    "from pathlib import Path\n",
    "import PyPDF2 as pdf2"
   ]
  },
  {
   "cell_type": "markdown",
   "source": [
    "\n",
    "# Preprocessing\n",
    "## Extract PDFs to txt file"
   ],
   "metadata": {
    "collapsed": false
   },
   "id": "46590b8ec4a1ceb6"
  },
  {
   "cell_type": "code",
   "outputs": [
    {
     "name": "stdout",
     "output_type": "stream",
     "text": [
      "07 ZETTEL.pdf\n",
      "14 REMARKS ON COLOUR.pdf\n",
      "09 REMARKS ON THE PHILOSOPHY OF PSYCHOLOGY 1.pdf\n",
      "04 THE BLUE AND THE BROWN BOOKS.pdf\n",
      "02 PHILOSOPHICAL REMARKS.pdf\n",
      "(Routledge Classics) Ludwig Wittgenstein - Tractatus Logico-Philosophicus-Routledge (2001).pdf\n",
      "10 REMARKS ON THE PHILOSOPHY OF PSYCHOLOGY 2.pdf\n",
      "05 REMARKS ON THE FOUNDATIONS OF MATHEMATICS.pdf\n",
      "08 PHILOSOPHICAL INVESTIGATIONS.pdf\n",
      "01 Notebooks.pdf\n",
      "06 Culture and Value.pdf\n",
      "11 LAST WRITINGS ON THE PHILOSOPHY OF PSYCHOLOGY.pdf\n",
      "12 LAST WRITINGS ON THE PHILOSOPHY OF PSYCHOLOGY 2.pdf\n",
      "Wittgenstein - Notebooks 1914-1916 ed 1961.pdf\n",
      "03 PHILOSOPHICAL GRAMMAR.pdf\n",
      "13 ON CERTAINTY.pdf\n"
     ]
    }
   ],
   "source": [
    "def _clean_line(data):\n",
    "    clean_ \n",
    "\n",
    "def extract_pdf(pdf_file_path):\n",
    "    with open (pdf_file_path, \"rb\") as f:\n",
    "        pdf = pdf2.PdfReader(f)\n",
    "        full_text = \"\"\n",
    "        for index, page in enumerate(pdf.pages):\n",
    "            # skip first page\n",
    "            if index not in [0]:\n",
    "                full_text += page.extract_text() + '\\n'\n",
    "        return full_text\n",
    "    \n",
    "def save_file(data: str, file_name: str):\n",
    "    Path(\"data\").mkdir(parents=True, exist_ok=True)\n",
    "    file = Path(\"data\") / file_name\n",
    "    file.write_text(data)\n",
    "\n",
    "for pdf_file in Path('data/raw').glob('*.pdf'):\n",
    "    text = extract_pdf(pdf_file)\n",
    "    save_file(text, pdf_file.name.split('.')[0] + '.txt')\n",
    "        "
   ],
   "metadata": {
    "collapsed": false,
    "ExecuteTime": {
     "end_time": "2024-01-29T18:10:56.260203Z",
     "start_time": "2024-01-29T18:10:00.524689Z"
    }
   },
   "id": "821b3fdf56a1b9d9",
   "execution_count": 38
  },
  {
   "cell_type": "code",
   "outputs": [],
   "source": [
    "for txt_file in Path('data').glob('*.pdf'):\n",
    "    \n",
    "    break\n"
   ],
   "metadata": {
    "collapsed": false
   },
   "id": "d2bc938025c2770b"
  }
 ],
 "metadata": {
  "kernelspec": {
   "display_name": "Python 3",
   "language": "python",
   "name": "python3"
  },
  "language_info": {
   "codemirror_mode": {
    "name": "ipython",
    "version": 2
   },
   "file_extension": ".py",
   "mimetype": "text/x-python",
   "name": "python",
   "nbconvert_exporter": "python",
   "pygments_lexer": "ipython2",
   "version": "2.7.6"
  }
 },
 "nbformat": 4,
 "nbformat_minor": 5
}
