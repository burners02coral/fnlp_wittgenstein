{
 "cells": [
  {
   "cell_type": "markdown",
   "source": [
    "# Imports"
   ],
   "metadata": {
    "collapsed": false
   },
   "id": "46d4ce8d1c3e51a5"
  },
  {
   "cell_type": "code",
   "execution_count": 43,
   "id": "initial_id",
   "metadata": {
    "collapsed": true,
    "ExecuteTime": {
     "end_time": "2024-01-29T18:33:51.850151Z",
     "start_time": "2024-01-29T18:33:51.843874Z"
    }
   },
   "outputs": [],
   "source": [
    "#!pip install PyPDF2\n",
    "import re\n",
    "import os\n",
    "import pathlib\n",
    "from pathlib import Path\n",
    "import PyPDF2 as pdf2"
   ]
  },
  {
   "cell_type": "markdown",
   "source": [
    "\n",
    "# Preprocessing\n",
    "## Extract PDFs to txt file"
   ],
   "metadata": {
    "collapsed": false
   },
   "id": "46590b8ec4a1ceb6"
  },
  {
   "cell_type": "code",
   "outputs": [],
   "source": [
    "def _clean_text(text):\n",
    "    text = re.sub(r\"Page( Break)? \\d{1,3}\" , \" \", text)\n",
    "    text = re.sub(r\"Page( Break)? [ivm]{1,3}\" , \" \", text) \n",
    "    # remove capital letter words\n",
    "    text = re.sub(r\"/(\\w*[A-Z]+\\w*)\\w+/\", \"\", text)\n",
    "    text = re.sub(\"\\d{1,5}.\", \"\", text)\n",
    "    text = re.sub(r\"\\s+\" , \" \", text)\n",
    "    text = re.sub(r\"†\", \"\", text)\n",
    "    text = re.sub(r\"\\( Eds.\\)\", \"\", text)\n",
    "    # [Cf. Z ]\n",
    "    text = re.sub(r\"\\[a-zA-Z\\w*\\]\", \"\", text)\n",
    "    # text = re.sub(r\"\\s+\" , \" \", text)\n",
    "    \n",
    "    return text\n",
    "\n",
    "def extract_pdf(pdf_file_path):\n",
    "    with open (pdf_file_path, \"rb\") as f:\n",
    "        pdf = pdf2.PdfReader(f)\n",
    "        full_text = \"\"\n",
    "        for index, page in enumerate(pdf.pages):\n",
    "            # skip first page\n",
    "            if index not in [0]:\n",
    "                full_text += _clean_text(page.extract_text() + '\\n') \n",
    "        return full_text\n",
    "    \n",
    "def save_file(data: str, file_name: str):\n",
    "    Path(\"data\").mkdir(parents=True, exist_ok=True)\n",
    "    file = Path(\"data\") / file_name\n",
    "    file.write_text(data)\n",
    "\n",
    "for pdf_file in Path('data/raw').glob('*.pdf'):\n",
    "    text = extract_pdf(pdf_file)\n",
    "    save_file(text, pdf_file.name.split('.')[0] + '.txt')\n",
    "        "
   ],
   "metadata": {
    "collapsed": false,
    "ExecuteTime": {
     "end_time": "2024-01-29T18:48:19.817063Z",
     "start_time": "2024-01-29T18:47:24.578300Z"
    }
   },
   "id": "821b3fdf56a1b9d9",
   "execution_count": 50
  },
  {
   "cell_type": "code",
   "outputs": [],
   "source": [],
   "metadata": {
    "collapsed": false
   },
   "id": "d2bc938025c2770b"
  },
  {
   "cell_type": "code",
   "outputs": [],
   "source": [],
   "metadata": {
    "collapsed": false
   },
   "id": "fea284fe56095146"
  }
 ],
 "metadata": {
  "kernelspec": {
   "display_name": "Python 3",
   "language": "python",
   "name": "python3"
  },
  "language_info": {
   "codemirror_mode": {
    "name": "ipython",
    "version": 2
   },
   "file_extension": ".py",
   "mimetype": "text/x-python",
   "name": "python",
   "nbconvert_exporter": "python",
   "pygments_lexer": "ipython2",
   "version": "2.7.6"
  }
 },
 "nbformat": 4,
 "nbformat_minor": 5
}
